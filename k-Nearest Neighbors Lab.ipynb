{
 "cells": [
  {
   "cell_type": "markdown",
   "metadata": {
    "id": "DVL7_bgmIAPR"
   },
   "source": [
    "# K-Nearest Neighbor Lab\n",
    "\n",
    "\n",
    "\n"
   ]
  },
  {
   "cell_type": "code",
   "execution_count": 638,
   "metadata": {
    "id": "6ZbYjZZZ_yLV"
   },
   "outputs": [],
   "source": [
    "from sklearn.base import BaseEstimator, ClassifierMixin\n",
    "from sklearn.neighbors import KNeighborsClassifier, KNeighborsRegressor\n",
    "import numpy as np\n",
    "import matplotlib.pyplot as plt\n",
    "from scipy.io import arff\n",
    "import pandas as pd\n",
    "from sklearn import preprocessing\n",
    "import time as time\n",
    "from sklearn.model_selection import train_test_split\n",
    "\n",
    "# so I don't get a future warning cropping up each time. \n",
    "import warnings\n",
    "warnings.filterwarnings(\"ignore\") "
   ]
  },
  {
   "cell_type": "markdown",
   "metadata": {
    "id": "sCcEPx5VIORj"
   },
   "source": [
    "## 1. (40%) Correctly implement the k-nearest neighbor (KNN) algorithm and the KNN regression algorithm\n",
    "\n",
    "### Code requirements\n",
    "- Use Euclidean distance to decide closest neighbors. \n",
    "- Include optional distance weighting for both algorithms\n"
   ]
  },
  {
   "cell_type": "code",
   "execution_count": 577,
   "metadata": {
    "id": "_a2KSZ_7AN0G"
   },
   "outputs": [],
   "source": [
    "class KNNClassifier(BaseEstimator,ClassifierMixin):\n",
    "    def __init__(self, K, columntype=[], weight_type='inverse_distance', metric = \"2_norm\"): ## add parameters here\n",
    "        \"\"\"\n",
    "        Args:\n",
    "            columntype for each column tells you if continues[real] or if nominal[categoritcal].\n",
    "            weight_type: inverse_distance voting or if non distance weighting. Options = [\"no_weight\",\"inverse_distance\"]\n",
    "        \"\"\"\n",
    "        self.columntype = columntype #Note This won't be needed until part 5\n",
    "        self.weight_type = weight_type\n",
    "        self.K = K\n",
    "        self.metric = metric\n",
    "\n",
    "    def fit(self, X, y, normalize = False, regression = False):\n",
    "        \"\"\" Fit the data; run the algorithm (for this lab really just saves the data :D)\n",
    "        Args:\n",
    "            X (array-like): A 2D numpy array with the training data, excluding targets\n",
    "            y (array-like): A 2D numpy array with the training targets\n",
    "        Returns:\n",
    "            self: this allows this to be chained, e.g. model.fit(X,y).predict(X_test)\n",
    "        \"\"\"\n",
    "        \n",
    "        self.regression = regression\n",
    "        if normalize:\n",
    "            self.X_train = self.normalize_dataset(X.values)\n",
    "            self.y_train = y.values\n",
    "        else:\n",
    "            self.X_train = X.values # Data\n",
    "            self.y_train = y.values # Labels\n",
    "        \n",
    "        \n",
    "        self.normalize = normalize\n",
    "        return self\n",
    "    \n",
    "    def predict(self, X):\n",
    "        \"\"\" Predict all classes for a dataset X\n",
    "        Args:\n",
    "            X (array-like): A 2D numpy array with the testing data, excluding targets\n",
    "        Returns:\n",
    "            array, shape (n_samples,)\n",
    "                Predicted target values per element in X.\n",
    "        \"\"\"\n",
    "        all_labels = list(set(self.y_train))\n",
    "        X_test = X.values\n",
    "        \n",
    "        preds = []\n",
    "        labels = dict()\n",
    "        \n",
    "        if self.normalize:\n",
    "            X_test = self.normalize_dataset(X_test)\n",
    "        \n",
    "        for test in X_test:\n",
    "            distances = dict()\n",
    "            if self.metric == \"2_norm\":\n",
    "                norms = np.linalg.norm(test - self.X_train, axis = 1)\n",
    "                \n",
    "            elif self.metric == \"custom\":\n",
    "                norms = []\n",
    "                for row in self.X_train:\n",
    "                    norm = 0\n",
    "                    for j in range(len(row)):\n",
    "                        if row[j] == None or test[j] == None:\n",
    "                            norm += 1\n",
    "                        elif isinstance(row[j], float):\n",
    "                            if row[j] != test[j]:\n",
    "                                a = row[j]/(row[j] + test[j])\n",
    "                                b = test[j]/(row[j] + test[j])\n",
    "                                norm += np.linalg.norm(a - b)\n",
    "                        elif isinstance(row[j], bytes):\n",
    "                            if row[j] != test[j]:\n",
    "                                norm += 1\n",
    "                    \n",
    "                    norms.append(norm)\n",
    "            \n",
    "            for i in range(len(norms)):\n",
    "                distances[i] = norms[i]\n",
    "            sorted_distances = sorted(distances.items(), key = lambda x: x[1]) # sort by norm\n",
    "            \n",
    "            closest_labels = dict() # maps norm to label\n",
    "            inds = [i[0] for i in sorted_distances[:self.K]]\n",
    "            norm = [i[1] for i in sorted_distances[:self.K]]\n",
    "            for i,n in zip(inds, norm):\n",
    "                closest_labels[n] = self.y_train[i]\n",
    "            \n",
    "            \n",
    "            if self.regression:\n",
    "                 # ------Weighted------\n",
    "                if self.weight_type == \"inverse_distance\":\n",
    "                    # sum of 1/distance**2 * regression label) / sum of 1/distance**2 for all neighbors\n",
    "                    numer = sum([closest_labels[d]/(d**2) for d in closest_labels.keys()])\n",
    "                    denom = sum([1 / (d**2) for d in closest_labels.keys()])\n",
    "                    preds.append(numer / denom)\n",
    "                \n",
    "                \n",
    "                \n",
    "                # ------Not Weighted------\n",
    "                elif self.weight_type == \"no_weight\":\n",
    "                    # average label of neighbors:\n",
    "                    labels = list(closest_labels.values())\n",
    "                    preds.append(np.mean(labels))\n",
    "                \n",
    "            else: # Classification case\n",
    "                # ------Weighted------\n",
    "                if self.weight_type == \"inverse_distance\":\n",
    "                    inv_closest_labels = {(1 / (d**2)): closest_labels[d] for d in closest_labels.keys()} # Maps 1/norm^2 to label\n",
    "                    labels = set(inv_closest_labels.values())\n",
    "\n",
    "\n",
    "                    counts = dict() # Maps label to sum\n",
    "\n",
    "                    for l in labels:\n",
    "                        s = 0\n",
    "                        for key, val in inv_closest_labels.items():\n",
    "                            if val == l:\n",
    "                                s += key\n",
    "                        counts[l] = s\n",
    "\n",
    "                    preds.append(max(counts, key=counts.get))\n",
    "\n",
    "                # ------Not Weighted------\n",
    "                elif self.weight_type == \"no_weight\":\n",
    "                    # If all 3 closest neighbors have different labels, choose the label of the closest point\n",
    "                    if len(set(closest_labels.values())) == 3:\n",
    "                        preds.append(list(closest_labels.values())[0])\n",
    "\n",
    "                    # Otherwise, just choose the label that appears most often among 3 closest neighbors\n",
    "                    else:\n",
    "                        counts = [list(closest_labels.values()).count(l) for l in all_labels]\n",
    "                        preds.append(all_labels[np.argmax(counts)])\n",
    "                    \n",
    "        return preds\n",
    "       \n",
    "\n",
    "\n",
    "    #Returns the Mean score given input data and labels\n",
    "    def score(self, X, y):\n",
    "        \"\"\" Return accuracy of model on a given dataset. Must implement own score function.\n",
    "        Args:\n",
    "            X (array-like): A 2D numpy array with data, excluding targets\n",
    "            y (array-like): A 2D numpy array with targets\n",
    "        Returns:\n",
    "            score : float\n",
    "                Mean accuracy of self.predict(X) wrt. y.\n",
    "        \"\"\"\n",
    "        if self.regression:\n",
    "            return np.mean([(self.predict(X)[i] - y.values[i])**2 for i in range(len(y.values))])\n",
    "        \n",
    "        \n",
    "        else:\n",
    "            count = 0\n",
    "\n",
    "            for p,t in zip(self.predict(X), y.values):\n",
    "                if p == t:\n",
    "                    count += 1\n",
    "            return count / len(y.values)\n",
    "    \n",
    "    \n",
    "    # Helper functions for normalizing the data\n",
    "    def dataset_minmax(self, dataset):\n",
    "        minmax = list()\n",
    "        for i in range(len(dataset[0])):\n",
    "            col_values = [row[i] for row in dataset]\n",
    "            value_min = min(col_values)\n",
    "            value_max = max(col_values)\n",
    "            minmax.append([value_min, value_max])\n",
    "        return minmax\n",
    "    \n",
    "    def normalize_dataset(self, dataset):\n",
    "        minmax = self.dataset_minmax(dataset)\n",
    "        for row in dataset:\n",
    "            for i in range(len(row)):\n",
    "                row[i] = (row[i] - minmax[i][0]) / (minmax[i][1] - minmax[i][0])\n",
    "        return dataset\n",
    "\n",
    "    "
   ]
  },
  {
   "cell_type": "markdown",
   "metadata": {},
   "source": [
    "## 1.1 Debug and Evaluation\n",
    "\n",
    "Debug and Evaluate your model using the parameters below:\n",
    "\n",
    "- Use distance weighting\n",
    "- KNN = 3 (three nearest neighbors)\n",
    "- Don’t normalize the data\n",
    "- Use Euclidean Distance\n",
    "\n",
    "---\n",
    "\n",
    "### 1.1.1 Debug\n",
    "\n",
    "- Use this [glass training set](https://byu.instructure.com/courses/14142/files?preview=4660939) and this [glass test set](https://byu.instructure.com/courses/14142/files?preview=4660941)\n",
    "- Use distance weighting\n",
    "- KNN = 3 (three nearest neighbors)\n",
    "- Don’t normalize the data\n",
    "- Use Euclidean Distance\n",
    "\n",
    "Expected Results:\n",
    "- Not using inverse weighted distancing = roughly [68.29%]\n",
    "- Link to [glass no_inverse debug solution](https://byu.instructure.com/courses/14142/files?preview=4660947)\n",
    "\n",
    "- Using inverse weighted distancing = roughly [74.39%]\n",
    "- Link to [glass inverse debug solution](https://byu.instructure.com/courses/14142/files?preview=4660954)\n"
   ]
  },
  {
   "cell_type": "code",
   "execution_count": 511,
   "metadata": {},
   "outputs": [
    {
     "name": "stdout",
     "output_type": "stream",
     "text": [
      "Accuracy not using inverse weighting: \n",
      "\t71.9512%\n",
      "\n",
      "Accuracy using inverse weighting: \n",
      "\t74.3902%\n"
     ]
    }
   ],
   "source": [
    "# Load glass data\n",
    "debug_data_train = arff.loadarff('glass_train.arff')\n",
    "debug_df_train = pd.DataFrame(debug_data_train[0])\n",
    "\n",
    "features_train = list(debug_df_train.columns)\n",
    "X_train = debug_df_train[features_train[0:-1]]\n",
    "y_train = debug_df_train[features_train[-1]]\n",
    "\n",
    "debug_data_test = arff.loadarff('glass_test.arff')\n",
    "debug_df_test = pd.DataFrame(debug_data_test[0])\n",
    "\n",
    "features_test = list(debug_df_test.columns)\n",
    "X_test = debug_df_test[features_test[0:-1]]\n",
    "y_test = debug_df_test[features_test[-1]]\n",
    "\n",
    "# ------------No weight------------\n",
    "# Train on training set\n",
    "knn = KNNClassifier(K = 3, weight_type = \"no_weight\")\n",
    "knn.fit(X_train, y_train)\n",
    "\n",
    "# Predict on test set\n",
    "# knn.predict(X_test)\n",
    "print(f\"Accuracy not using inverse weighting: \\n\\t{np.round(100*knn.score(X_test, y_test), 4)}%\")\n",
    "print(\"\")\n",
    "# # ------------Using inverse_distance------------\n",
    "# # Train on training set\n",
    "knn = KNNClassifier(K = 3, weight_type = \"inverse_distance\")\n",
    "knn.fit(X_train, y_train)\n",
    "\n",
    "# Predict on test set\n",
    "# knn.predict(X_test)\n",
    "print(f\"Accuracy using inverse weighting: \\n\\t{np.round(100*knn.score(X_test, y_test), 4)}%\")\n"
   ]
  },
  {
   "cell_type": "markdown",
   "metadata": {},
   "source": [
    "### 1.1.2 Evaluate\n",
    "\n",
    "We will evaluate your model based on its performance on the [diabetes](https://archive.ics.uci.edu/ml/datasets/Diabetes) problem.\n",
    "- Use this [diabetes training set](https://byu.instructure.com/courses/14142/files?preview=4660977) and this [diabetes test set](https://byu.instructure.com/courses/14142/files?preview=4660978)"
   ]
  },
  {
   "cell_type": "code",
   "execution_count": 465,
   "metadata": {},
   "outputs": [
    {
     "name": "stdout",
     "output_type": "stream",
     "text": [
      "Accuracy using inverse weighting: \n",
      "\t89.0625%\n"
     ]
    }
   ],
   "source": [
    "# Load diabetes data\n",
    "eval_data_train = arff.loadarff('diabetes_train.arff')\n",
    "eval_df_train = pd.DataFrame(eval_data_train[0])\n",
    "\n",
    "features_train = list(eval_df_train.columns)\n",
    "X_train = eval_df_train[features_train[0:-1]]\n",
    "y_train = eval_df_train[features_train[-1]]\n",
    "\n",
    "eval_data_test = arff.loadarff('diabetes_test.arff')\n",
    "eval_df_test = pd.DataFrame(eval_data_test[0])\n",
    "\n",
    "features_test = list(eval_df_test.columns)\n",
    "X_test = eval_df_test[features_test[0:-1]]\n",
    "y_test = eval_df_test[features_test[-1]]\n",
    "\n",
    "# Train on training set\n",
    "knn = KNNClassifier(K = 3, weight_type = \"inverse_distance\")\n",
    "knn.fit(X_train, y_train)\n",
    "\n",
    "# Predict on test set\n",
    "knn.predict(X_test)\n",
    "print(f\"Accuracy using inverse weighting: \\n\\t{np.round(100*knn.score(X_test, y_test), 4)}%\")\n"
   ]
  },
  {
   "cell_type": "markdown",
   "metadata": {
    "id": "9vWiTdlbR2Xh"
   },
   "source": [
    "## 2. (10%) Use the k-nearest neighbor algorithm (without distance weighting) for the [magic telescope](http://archive.ics.uci.edu/ml/datasets/MAGIC+Gamma+Telescope) problem\n",
    "\n",
    "- Use this [magic telescope training set](https://byu.instructure.com/courses/14142/files?preview=4660988) and this [magic telescope test set](https://byu.instructure.com/courses/14142/files?preview=4660989) \n",
    "\n",
    "### 2.1\n",
    "- Try it with k=3 and without normalization\n"
   ]
  },
  {
   "cell_type": "code",
   "execution_count": 639,
   "metadata": {
    "id": "4SSoasDQSKXb"
   },
   "outputs": [
    {
     "name": "stdout",
     "output_type": "stream",
     "text": [
      "Accuracy using no inverse weighting, and no normalization: \n",
      "\t80.8281%\n"
     ]
    }
   ],
   "source": [
    "# Load magic telescope data\n",
    "magic_data_train = arff.loadarff('magic_telescope_train.arff')\n",
    "magic_df_train = pd.DataFrame(magic_data_train[0])\n",
    "\n",
    "features_train = list(magic_df_train.columns)\n",
    "X_train = magic_df_train[features_train[0:-1]]\n",
    "y_train = magic_df_train[features_train[-1]]\n",
    "\n",
    "magic_data_test = arff.loadarff('magic_telescope_test.arff')\n",
    "magic_df_test = pd.DataFrame(magic_data_test[0])\n",
    "\n",
    "features_test = list(magic_df_test.columns)\n",
    "X_test = magic_df_test[features_test[0:-1]]\n",
    "y_test = magic_df_test[features_test[-1]]\n",
    "# Train/Predict without normalization\n",
    "\n",
    "knn = KNNClassifier(K = 3, weight_type = \"no_weight\")\n",
    "knn.fit(X_train, y_train)\n",
    "\n",
    "print(f\"Accuracy using no inverse weighting, and no normalization: \\n\\t{np.round(100*knn.score(X_test, y_test), 4)}%\")"
   ]
  },
  {
   "cell_type": "markdown",
   "metadata": {},
   "source": [
    "### 2.2\n",
    "- Try it with k=3 and with normalization (input features normalized between 0 and 1). Use the normalization formula (x-xmin)/(xmax-xmin)"
   ]
  },
  {
   "cell_type": "code",
   "execution_count": 640,
   "metadata": {},
   "outputs": [
    {
     "name": "stdout",
     "output_type": "stream",
     "text": [
      "Accuracy using no inverse weighting, and normalization: \n",
      "\t81.5782%\n"
     ]
    }
   ],
   "source": [
    "# Train/Predict with normalization\n",
    "knn = KNNClassifier(K = 3, weight_type = \"no_weight\")\n",
    "knn.fit(X_train, y_train, normalize = True)\n",
    "\n",
    "print(f\"Accuracy using no inverse weighting, and normalization: \\n\\t{np.round(100*knn.score(X_test, y_test), 4)}%\")"
   ]
  },
  {
   "cell_type": "markdown",
   "metadata": {},
   "source": [
    "*Discuss the accuracy results of using normalized data vs. unnormalized data*\n",
    "\n",
    "Here, with the same K value, accuracy increased slightly after normalizing data. This indicates that there were a few outliers \"skewing\" the results, and that after normalizing, have less of an effect on accuracy."
   ]
  },
  {
   "cell_type": "markdown",
   "metadata": {},
   "source": [
    "### 2.3\n",
    "\n",
    "- Using your normalized data, create one graph with classification accuracy on the test set over k values. \n",
    "    - Use odd values of k from 1 to 15.\n",
    "- As a rough sanity check, typical knn accuracies for the magic telescope data set are 75-85%"
   ]
  },
  {
   "cell_type": "code",
   "execution_count": 482,
   "metadata": {},
   "outputs": [],
   "source": [
    "# Train/Predict with normalization using k=1,3,...,15\n",
    "k_vals = [2*i + 1 for i in range(8)]\n",
    "accuracy_vals = []\n",
    "for k in k_vals:\n",
    "    knn = KNNClassifier(K = k, weight_type = \"no_weight\")\n",
    "    knn.fit(X_train, y_train, normalize = True)\n",
    "    accuracy_vals.append(100*knn.score(X_test, y_test))\n",
    "    \n"
   ]
  },
  {
   "cell_type": "code",
   "execution_count": 490,
   "metadata": {},
   "outputs": [
    {
     "data": {
      "text/plain": [
       "Text(0, 0.5, 'Accuracy')"
      ]
     },
     "execution_count": 490,
     "metadata": {},
     "output_type": "execute_result"
    },
    {
     "data": {
      "image/png": "[encoded data removed]",
      "text/plain": [
       "<Figure size 864x324 with 1 Axes>"
      ]
     },
     "metadata": {
      "needs_background": "light"
     },
     "output_type": "display_data"
    }
   ],
   "source": [
    "# Graph classification accuracy over k\n",
    "plt.figure(figsize = (12,4.5))\n",
    "plt.scatter(k_vals, accuracy_vals)\n",
    "plt.xticks(k_vals)\n",
    "plt.xlabel(\"K value\")\n",
    "plt.ylabel(\"Accuracy\")"
   ]
  },
  {
   "cell_type": "markdown",
   "metadata": {},
   "source": [
    "# For the rest of the experiments use only normalized data"
   ]
  },
  {
   "cell_type": "markdown",
   "metadata": {
    "id": "SIRG42TgSR4x"
   },
   "source": [
    "## 3. (10%) Use the regression variation of your algorithm (without distance weighting) for the [housing price prediction](https://www.cs.toronto.edu/~delve/data/boston/bostonDetail.html) problem.\n",
    "\n",
    "- Use this [housing training set](https://byu.instructure.com/courses/14142/files?preview=4660994) and this [housing test set](https://byu.instructure.com/courses/14142/files?preview=4660995).\n",
    "- Use Mean Square Error (MSE) on the test set as your accuracy metric for this case.\n",
    "    - Do not normalize regression output values\n",
    "- Graph MSE on the test set with odd values of k from 1 to 15\n"
   ]
  },
  {
   "cell_type": "code",
   "execution_count": 573,
   "metadata": {
    "id": "KBGUn43ASiXW"
   },
   "outputs": [],
   "source": [
    "# Load housing price prediction data\n",
    "house_data_train = arff.loadarff('housing_train.arff')\n",
    "house_df_train = pd.DataFrame(house_data_train[0]).astype(float)\n",
    "# house_df_train[\"CHAS\"] = house_df_train[\"CHAS\"].astype(int)\n",
    "\n",
    "features_train = list(house_df_train.columns)\n",
    "X_train = house_df_train[features_train[0:-1]] # Data\n",
    "y_train = house_df_train[features_train[-1]] # Regression label\n",
    "\n",
    "house_data_test = arff.loadarff('housing_test.arff')\n",
    "house_df_test = pd.DataFrame(house_data_test[0]).astype(float)\n",
    "# house_df_test[\"CHAS\"] = house_df_test[\"CHAS\"].astype(int)\n",
    "\n",
    "features_test = list(house_df_test.columns)\n",
    "X_test = house_df_test[features_test[0:-1]]\n",
    "y_test = house_df_test[features_test[-1]]\n",
    "\n",
    "# Train/Predict using k=1,3,...,15\n",
    "k_vals = [2*i + 1 for i in range(8)]\n",
    "mse_vals = []\n",
    "for k in k_vals:\n",
    "    knn = KNNClassifier(K = k, weight_type = \"no_weight\")\n",
    "    knn.fit(X_train, y_train, normalize = True, regression = True)\n",
    "    mse_vals.append(knn.score(X_test, y_test))\n"
   ]
  },
  {
   "cell_type": "code",
   "execution_count": 575,
   "metadata": {},
   "outputs": [
    {
     "data": {
      "image/png": "[encoded data removed]",
      "text/plain": [
       "<Figure size 864x324 with 1 Axes>"
      ]
     },
     "metadata": {
      "needs_background": "light"
     },
     "output_type": "display_data"
    }
   ],
   "source": [
    "# Graph MSE over k\n",
    "plt.figure(figsize = (12,4.5))\n",
    "plt.scatter(k_vals, mse_vals)\n",
    "plt.xticks(k_vals)\n",
    "plt.xlabel(\"K value\")\n",
    "plt.ylabel(\"MSE\")\n",
    "plt.show()"
   ]
  },
  {
   "cell_type": "markdown",
   "metadata": {
    "id": "v19fpixqTe-7"
   },
   "source": [
    "## 4. (15%) Repeat your experiments for magic telescope and housing using distance-weighted (inverse of distance squared) voting and discuss your results.\n"
   ]
  },
  {
   "cell_type": "markdown",
   "metadata": {},
   "source": [
    "## 4.1 Magic Telescope Dataset"
   ]
  },
  {
   "cell_type": "code",
   "execution_count": 565,
   "metadata": {
    "id": "ZCPFUAGTS2sX"
   },
   "outputs": [],
   "source": [
    "# Train/Predict magic telescope using distance-weighted voting\n",
    "magic_data_train = arff.loadarff('magic_telescope_train.arff')\n",
    "magic_df_train = pd.DataFrame(magic_data_train[0])\n",
    "\n",
    "features_train = list(magic_df_train.columns)\n",
    "X_train = magic_df_train[features_train[0:-1]]\n",
    "y_train = magic_df_train[features_train[-1]]\n",
    "\n",
    "magic_data_test = arff.loadarff('magic_telescope_test.arff')\n",
    "magic_df_test = pd.DataFrame(magic_data_test[0])\n",
    "\n",
    "features_test = list(magic_df_test.columns)\n",
    "X_test = magic_df_test[features_test[0:-1]]\n",
    "y_test = magic_df_test[features_test[-1]]\n",
    "\n",
    "k_vals = [2*i + 1 for i in range(8)]\n",
    "accuracy_vals = []\n",
    "for k in k_vals:\n",
    "    knn = KNNClassifier(K = k, weight_type = \"inverse_distance\")\n",
    "    knn.fit(X_train, y_train, normalize = True)\n",
    "    accuracy_vals.append(100*knn.score(X_test, y_test))\n",
    "    "
   ]
  },
  {
   "cell_type": "code",
   "execution_count": 568,
   "metadata": {},
   "outputs": [
    {
     "data": {
      "image/png": "[encoded data removed]",
      "text/plain": [
       "<Figure size 864x324 with 1 Axes>"
      ]
     },
     "metadata": {
      "needs_background": "light"
     },
     "output_type": "display_data"
    }
   ],
   "source": [
    "plt.figure(figsize = (12,4.5))\n",
    "plt.scatter(k_vals, accuracy_vals)\n",
    "plt.xticks(k_vals)\n",
    "plt.xlabel(\"K value\")\n",
    "plt.ylabel(\"Accuracy\")\n",
    "plt.show()"
   ]
  },
  {
   "cell_type": "markdown",
   "metadata": {},
   "source": [
    "## 4.2 Housing Dataset"
   ]
  },
  {
   "cell_type": "code",
   "execution_count": 571,
   "metadata": {},
   "outputs": [],
   "source": [
    "# Train/Predict housing using distance-weighted voting\n",
    "# Load housing price prediction data\n",
    "house_data_train = arff.loadarff('housing_train.arff')\n",
    "house_df_train = pd.DataFrame(house_data_train[0]).astype(float)\n",
    "# house_df_train[\"CHAS\"] = house_df_train[\"CHAS\"].astype(int)\n",
    "\n",
    "features_train = list(house_df_train.columns)\n",
    "X_train = house_df_train[features_train[0:-1]] # Data\n",
    "y_train = house_df_train[features_train[-1]] # Regression label\n",
    "\n",
    "house_data_test = arff.loadarff('housing_test.arff')\n",
    "house_df_test = pd.DataFrame(house_data_test[0]).astype(float)\n",
    "# house_df_test[\"CHAS\"] = house_df_test[\"CHAS\"].astype(int)\n",
    "\n",
    "features_test = list(house_df_test.columns)\n",
    "X_test = house_df_test[features_test[0:-1]]\n",
    "y_test = house_df_test[features_test[-1]]\n",
    "\n",
    "# Train/Predict using k=1,3,...,15\n",
    "k_vals = [2*i + 1 for i in range(8)]\n",
    "mse_vals = []\n",
    "for k in k_vals:\n",
    "    knn = KNNClassifier(K = k, weight_type = \"inverse_distance\")\n",
    "    knn.fit(X_train, y_train, normalize = True, regression = True)\n",
    "    mse_vals.append(knn.score(X_test, y_test))\n"
   ]
  },
  {
   "cell_type": "code",
   "execution_count": 572,
   "metadata": {},
   "outputs": [
    {
     "data": {
      "image/png": "[encoded data removed]",
      "text/plain": [
       "<Figure size 864x324 with 1 Axes>"
      ]
     },
     "metadata": {
      "needs_background": "light"
     },
     "output_type": "display_data"
    }
   ],
   "source": [
    "plt.figure(figsize = (12,4.5))\n",
    "plt.scatter(k_vals, mse_vals)\n",
    "plt.xticks(k_vals)\n",
    "plt.xlabel(\"K value\")\n",
    "plt.ylabel(\"MSE\")\n",
    "plt.show()"
   ]
  },
  {
   "cell_type": "markdown",
   "metadata": {},
   "source": [
    "*Discuss your results*"
   ]
  },
  {
   "cell_type": "markdown",
   "metadata": {},
   "source": [
    "## 5. (10%) Use the k-nearest neighbor algorithm to solve the [credit-approval](https://archive.ics.uci.edu/ml/datasets/Credit+Approval) (credit-a) problem.\n",
    "\n",
    "- Use this [credit approval dataset](https://byu.instructure.com/courses/14142/files?preview=4660998)\n",
    "    - Use a 70/30 split of the data for the training/test set\n",
    "- Note that this set has both continuous and nominal attributes, together with don’t know values. \n",
    "- Implement and justify a distance metric which supports continuous, nominal, and don’t know attribute values\n",
    "    - You need to handle don't knows with the distance metric, not by imputing a value.\n",
    "    - More information on distance metrics can be found [here](https://www.jair.org/index.php/jair/article/view/10182/24168).\n",
    "- Use your own choice for k.\n",
    "- As a rough sanity check, typical knn accuracies for the credit data set are 70-80%.\n"
   ]
  },
  {
   "cell_type": "code",
   "execution_count": 597,
   "metadata": {},
   "outputs": [
    {
     "name": "stdout",
     "output_type": "stream",
     "text": [
      "Accuracy with k = 6: 0.8309178743961353\n"
     ]
    }
   ],
   "source": [
    "# Load dataset and split into train/test sets\n",
    "credit_data = arff.loadarff('credit_approval.arff')\n",
    "credit_df = pd.DataFrame(credit_data[0])\n",
    "\n",
    "features = list(credit_df.columns)\n",
    "X = credit_df[features[0:-1]]\n",
    "y = credit_df[features[-1]] \n",
    "\n",
    "X_train, X_test, y_train, y_test = train_test_split(X, y, test_size = 0.3, random_state=42)\n",
    "\n",
    "\n",
    "# Train/Predict credit-approval\n",
    "\n",
    "knn = KNNClassifier(K = 6, weight_type = \"inverse_distance\", metric = \"custom\")\n",
    "knn.fit(X_train, y_train, normalize = False, regression = False)\n",
    "print(f\"Accuracy with k = 6: {knn.score(X_test, y_test)}\")\n",
    "\n"
   ]
  },
  {
   "cell_type": "markdown",
   "metadata": {},
   "source": [
    "*Explain and justify your distance metric*\n",
    "\n",
    "My distance metric adds a 1 to the norm if a single None value is encounterd. If a bytes value is encountered, then I make sure the values are not equal, then add a 1 to the norm.\\\n",
    "Finally, if both values are floats and are not equal to each other, I normalize each one and take the 2-norm (euclidian distance). \\\n",
    "This metric works because often a none value is compared to a int or float value and since we have no idea how far away those points are from each other, we choose 1. 1 is not very far nor is it very close when considering how close the float values are to each other. \\\n",
    "I chose k = 6 as that gave me the highest accuracy. \n",
    "\n"
   ]
  },
  {
   "cell_type": "markdown",
   "metadata": {
    "id": "oBBmeNQ7jvcQ"
   },
   "source": [
    "## 6. (15%) Use the scikit's KNN Classifier on magic telescope and KNN Regressor on housing and compare your results.\n",
    "\n",
    "- Try out different hyperparameters to see how well you can do. \n"
   ]
  },
  {
   "cell_type": "code",
   "execution_count": 627,
   "metadata": {
    "id": "OFQv70W2VyqJ"
   },
   "outputs": [
    {
     "name": "stdout",
     "output_type": "stream",
     "text": [
      "With weights set to uniform, and K = 3, and p = 2, accuracy is 0.8082808280828083\n",
      "With weights set to distance, and K = 3, and p = 2, accuracy is 0.8094809480948095\n",
      "With weights set to uniform, and K = 3, and p = 3, accuracy is 0.8052805280528053\n",
      "With weights set to distance, and K = 3, and p = 3, accuracy is 0.8058805880588059\n",
      "With weights set to uniform, and K = 3, and p = 4, accuracy is 0.804080408040804\n",
      "With weights set to distance, and K = 3, and p = 4, accuracy is 0.8052805280528053\n",
      "With weights set to uniform, and K = 5, and p = 2, accuracy is 0.8136813681368137\n",
      "With weights set to distance, and K = 5, and p = 2, accuracy is 0.8166816681668166\n",
      "With weights set to uniform, and K = 5, and p = 3, accuracy is 0.8120312031203121\n",
      "With weights set to distance, and K = 5, and p = 3, accuracy is 0.8147314731473148\n",
      "With weights set to uniform, and K = 5, and p = 4, accuracy is 0.8093309330933093\n",
      "With weights set to distance, and K = 5, and p = 4, accuracy is 0.8115811581158116\n",
      "With weights set to uniform, and K = 7, and p = 2, accuracy is 0.8156315631563157\n",
      "With weights set to distance, and K = 7, and p = 2, accuracy is 0.8211821182118212\n",
      "With weights set to uniform, and K = 7, and p = 3, accuracy is 0.8121812181218122\n",
      "With weights set to distance, and K = 7, and p = 3, accuracy is 0.8162316231623162\n",
      "With weights set to uniform, and K = 7, and p = 4, accuracy is 0.8099309930993099\n",
      "With weights set to distance, and K = 7, and p = 4, accuracy is 0.8135313531353136\n",
      "With weights set to uniform, and K = 9, and p = 2, accuracy is 0.8181818181818182\n",
      "With weights set to distance, and K = 9, and p = 2, accuracy is 0.8220822082208221\n",
      "With weights set to uniform, and K = 9, and p = 3, accuracy is 0.8166816681668166\n",
      "With weights set to distance, and K = 9, and p = 3, accuracy is 0.8196819681968197\n",
      "With weights set to uniform, and K = 9, and p = 4, accuracy is 0.813981398139814\n",
      "With weights set to distance, and K = 9, and p = 4, accuracy is 0.8172817281728173\n"
     ]
    }
   ],
   "source": [
    "# Train/Predict magic telescope using scikit's KNN\n",
    "\n",
    "le = preprocessing.LabelEncoder()\n",
    "\n",
    "magic_data_train = arff.loadarff('magic_telescope_train.arff')\n",
    "magic_df_train = pd.DataFrame(magic_data_train[0])\n",
    "\n",
    "features_train = list(magic_df_train.columns)\n",
    "X_train = magic_df_train[features_train[0:-1]]\n",
    "y_train = le.fit_transform(magic_df_train[features_train[-1]])\n",
    "\n",
    "magic_data_test = arff.loadarff('magic_telescope_test.arff')\n",
    "magic_df_test = pd.DataFrame(magic_data_test[0])\n",
    "\n",
    "features_test = list(magic_df_test.columns)\n",
    "X_test = magic_df_test[features_test[0:-1]]\n",
    "y_test = le.fit_transform(magic_df_test[features_test[-1]])\n",
    "\n",
    "weights_vals = [\"uniform\", \"distance\"]\n",
    "p_vals = [2,3,4]\n",
    "neigh_vals = [3,5,7,9]\n",
    "for k in neigh_vals:\n",
    "    for p in p_vals:\n",
    "        for weight in weights_vals:\n",
    "            neigh = KNeighborsClassifier(n_neighbors=k, weights = weight, p = p)\n",
    "            neigh.fit(X_train, y_train)\n",
    "            print(f\"With weights set to {weight}, and K = {k}, and p = {p}, accuracy is {neigh.score(X_test, y_test)}\")"
   ]
  },
  {
   "cell_type": "markdown",
   "metadata": {},
   "source": [
    "Using distance weighting, k = 9 and p = 2, we get the best accuracy. k = 7 is a close second."
   ]
  },
  {
   "cell_type": "code",
   "execution_count": 637,
   "metadata": {},
   "outputs": [
    {
     "name": "stdout",
     "output_type": "stream",
     "text": [
      "With weights set to uniform, and K = 3, and p = 2, R^2 is 0.3089347485187751\n",
      "With weights set to distance, and K = 3, and p = 2, R^2 is 0.3114920892272527\n",
      "With weights set to uniform, and K = 3, and p = 3, R^2 is 0.22292245846883407\n",
      "With weights set to distance, and K = 3, and p = 3, R^2 is 0.23621892451869952\n",
      "With weights set to uniform, and K = 3, and p = 4, R^2 is 0.21595385172966386\n",
      "With weights set to distance, and K = 3, and p = 4, R^2 is 0.2277616504983757\n",
      "With weights set to uniform, and K = 5, and p = 2, R^2 is 0.25491902354492035\n",
      "With weights set to distance, and K = 5, and p = 2, R^2 is 0.2739381978953438\n",
      "With weights set to uniform, and K = 5, and p = 3, R^2 is 0.17347095770627008\n",
      "With weights set to distance, and K = 5, and p = 3, R^2 is 0.2062744711906369\n",
      "With weights set to uniform, and K = 5, and p = 4, R^2 is 0.17666224642779838\n",
      "With weights set to distance, and K = 5, and p = 4, R^2 is 0.20564006163348414\n",
      "With weights set to uniform, and K = 7, and p = 2, R^2 is 0.2979443003218095\n",
      "With weights set to distance, and K = 7, and p = 2, R^2 is 0.3049889045804747\n",
      "With weights set to uniform, and K = 7, and p = 3, R^2 is 0.22878778243746356\n",
      "With weights set to distance, and K = 7, and p = 3, R^2 is 0.24405480005241442\n",
      "With weights set to uniform, and K = 7, and p = 4, R^2 is 0.24452413803197226\n",
      "With weights set to distance, and K = 7, and p = 4, R^2 is 0.2542113242596583\n",
      "With weights set to uniform, and K = 9, and p = 2, R^2 is 0.330411036434183\n",
      "With weights set to distance, and K = 9, and p = 2, R^2 is 0.3430528009175514\n",
      "With weights set to uniform, and K = 9, and p = 3, R^2 is 0.2885487958523234\n",
      "With weights set to distance, and K = 9, and p = 3, R^2 is 0.3079244131103188\n",
      "With weights set to uniform, and K = 9, and p = 4, R^2 is 0.29521386488168866\n",
      "With weights set to distance, and K = 9, and p = 4, R^2 is 0.30797357847511053\n"
     ]
    }
   ],
   "source": [
    "# Train/Predict housing using scikit's KNN\n",
    "house_data_train = arff.loadarff('housing_train.arff')\n",
    "house_df_train = pd.DataFrame(house_data_train[0]).astype(float)\n",
    "\n",
    "features_train = list(house_df_train.columns)\n",
    "X_train = house_df_train[features_train[0:-1]] # Data\n",
    "y_train = house_df_train[features_train[-1]] # Regression label\n",
    "\n",
    "house_data_test = arff.loadarff('housing_test.arff')\n",
    "house_df_test = pd.DataFrame(house_data_test[0]).astype(float)\n",
    "\n",
    "features_test = list(house_df_test.columns)\n",
    "X_test = house_df_test[features_test[0:-1]]\n",
    "y_test = house_df_test[features_test[-1]]\n",
    "\n",
    "\n",
    "weights_vals = [\"uniform\", \"distance\"]\n",
    "p_vals = [2,3,4]\n",
    "neigh_vals = [3,5,7,9]\n",
    "for k in neigh_vals:\n",
    "    for p in p_vals:\n",
    "        for weight in weights_vals:\n",
    "            neigh = KNeighborsRegressor(n_neighbors=k, weights = weight, p = p)\n",
    "            neigh.fit(X_train, y_train)\n",
    "            print(f\"With weights set to {weight}, and K = {k}, and p = {p}, R^2 is {neigh.score(X_test, y_test)}\")\n",
    "\n"
   ]
  },
  {
   "cell_type": "markdown",
   "metadata": {
    "id": "BqSFAXwlk3Ms"
   },
   "source": [
    "*Report your comparison*\n",
    "\n",
    "Clearly the classifier on magic telescope is much more accurate. However, it should be noted that the score metric on the regressor is neither accuracy nor MSE, it's rather an $R^2$ score. In other words, this $R^2$ score says how much variance can be explained by the data. Since this is fairly close to 0, it's safe to say that the \"accuracy\" is also not great."
   ]
  },
  {
   "cell_type": "markdown",
   "metadata": {
    "id": "cTlK-kijk8Mg"
   },
   "source": [
    "## 7. (optional 5% extra credit): For the best value of k for any one of the datasets, implement a reduction algorithm that removes data points in some rational way such that performance does not drop too drastically on the test set given the reduced training set.\n",
    "\n",
    "- Compare your performance on the test set for the reduced and non-reduced versions and give the number (and percentage) of training examples removed from the original training set. How well does your reduction algorithm work?\n",
    "    - Note that performance for magic telescope is classification accuracy and for housing it is mean squared error.\n",
    "    - Magic Telescope has about 12,000 instances and if you use a leave one out style of testing for your data set reduction, then your algorithm will run slow since that is n2 at each step.\n",
    "    - If you wish, you may use a random subset of 2,000 of the magic telescope instances.\n",
    "    - Examples of reduction techniques include: (a) leave-one-out reduction - Drop instance if it would still be classified correctly, (b) growth algorithm - Only add instance if it is not already classified correctly, (c) just keep central points, (d) just keep border points, etc. (see Wilson, D. R. and Martinez, T. R., Reduction Techniques for Exemplar-Based Learning Algorithms, Machine Learning Journal, vol. 38, no. 3, pp. 257-286, 2000)."
   ]
  }
 ],
 "metadata": {
  "colab": {
   "collapsed_sections": [],
   "name": "lab 1 - perceptron",
   "provenance": []
  },
  "kernelspec": {
   "display_name": "Python 3",
   "language": "python",
   "name": "python3"
  },
  "language_info": {
   "codemirror_mode": {
    "name": "ipython",
    "version": 3
   },
   "file_extension": ".py",
   "mimetype": "text/x-python",
   "name": "python",
   "nbconvert_exporter": "python",
   "pygments_lexer": "ipython3",
   "version": "3.8.8"
  }
 },
 "nbformat": 4,
 "nbformat_minor": 4
}
