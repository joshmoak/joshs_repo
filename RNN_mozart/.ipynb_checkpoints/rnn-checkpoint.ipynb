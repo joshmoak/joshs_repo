{
  "cells": [
    {
      "cell_type": "code",
      "execution_count": 1,
      "metadata": {
        "colab": {
          "base_uri": "https://localhost:8080/"
        },
        "id": "_HaCF0y2YpwU",
        "outputId": "729375dd-5e3e-4dc9-d0b7-58f306720ad5"
      },
      "outputs": [
        {
          "output_type": "stream",
          "name": "stdout",
          "text": [
            "Looking in indexes: https://pypi.org/simple, https://us-python.pkg.dev/colab-wheels/public/simple/\n",
            "Requirement already satisfied: music21 in /usr/local/lib/python3.9/dist-packages (8.1.0)\n",
            "Requirement already satisfied: chardet in /usr/local/lib/python3.9/dist-packages (from music21) (4.0.0)\n",
            "Requirement already satisfied: jsonpickle in /usr/local/lib/python3.9/dist-packages (from music21) (3.0.1)\n",
            "Requirement already satisfied: webcolors>=1.5 in /usr/local/lib/python3.9/dist-packages (from music21) (1.13)\n",
            "Requirement already satisfied: matplotlib in /usr/local/lib/python3.9/dist-packages (from music21) (3.7.1)\n",
            "Requirement already satisfied: joblib in /usr/local/lib/python3.9/dist-packages (from music21) (1.2.0)\n",
            "Requirement already satisfied: numpy in /usr/local/lib/python3.9/dist-packages (from music21) (1.22.4)\n",
            "Requirement already satisfied: requests in /usr/local/lib/python3.9/dist-packages (from music21) (2.27.1)\n",
            "Requirement already satisfied: more-itertools in /usr/local/lib/python3.9/dist-packages (from music21) (9.1.0)\n",
            "Requirement already satisfied: cycler>=0.10 in /usr/local/lib/python3.9/dist-packages (from matplotlib->music21) (0.11.0)\n",
            "Requirement already satisfied: python-dateutil>=2.7 in /usr/local/lib/python3.9/dist-packages (from matplotlib->music21) (2.8.2)\n",
            "Requirement already satisfied: contourpy>=1.0.1 in /usr/local/lib/python3.9/dist-packages (from matplotlib->music21) (1.0.7)\n",
            "Requirement already satisfied: kiwisolver>=1.0.1 in /usr/local/lib/python3.9/dist-packages (from matplotlib->music21) (1.4.4)\n",
            "Requirement already satisfied: packaging>=20.0 in /usr/local/lib/python3.9/dist-packages (from matplotlib->music21) (23.0)\n",
            "Requirement already satisfied: pyparsing>=2.3.1 in /usr/local/lib/python3.9/dist-packages (from matplotlib->music21) (3.0.9)\n",
            "Requirement already satisfied: importlib-resources>=3.2.0 in /usr/local/lib/python3.9/dist-packages (from matplotlib->music21) (5.12.0)\n",
            "Requirement already satisfied: pillow>=6.2.0 in /usr/local/lib/python3.9/dist-packages (from matplotlib->music21) (8.4.0)\n",
            "Requirement already satisfied: fonttools>=4.22.0 in /usr/local/lib/python3.9/dist-packages (from matplotlib->music21) (4.39.3)\n",
            "Requirement already satisfied: idna<4,>=2.5 in /usr/local/lib/python3.9/dist-packages (from requests->music21) (3.4)\n",
            "Requirement already satisfied: certifi>=2017.4.17 in /usr/local/lib/python3.9/dist-packages (from requests->music21) (2022.12.7)\n",
            "Requirement already satisfied: urllib3<1.27,>=1.21.1 in /usr/local/lib/python3.9/dist-packages (from requests->music21) (1.26.15)\n",
            "Requirement already satisfied: charset-normalizer~=2.0.0 in /usr/local/lib/python3.9/dist-packages (from requests->music21) (2.0.12)\n",
            "Requirement already satisfied: zipp>=3.1.0 in /usr/local/lib/python3.9/dist-packages (from importlib-resources>=3.2.0->matplotlib->music21) (3.15.0)\n",
            "Requirement already satisfied: six>=1.5 in /usr/local/lib/python3.9/dist-packages (from python-dateutil>=2.7->matplotlib->music21) (1.16.0)\n"
          ]
        }
      ],
      "source": [
        "!pip install --upgrade music21\n",
        "from music21 import converter, instrument, note, chord, stream, midi\n",
        "from google.colab import files\n",
        "import glob\n",
        "import os\n",
        "import gzip\n",
        "import tarfile    \n",
        "from torchvision import datasets                  \n",
        "import numpy as np\n",
        "import torch\n",
        "import torch.nn as nn\n",
        "import torch.optim\n",
        "from torch.utils.data import DataLoader, random_split\n",
        "import matplotlib.pyplot as plt\n",
        "from tqdm import tqdm\n",
        "from sklearn.model_selection import train_test_split\n",
        "assert torch.cuda.is_available()\n",
        "\n",
        "device = torch.device(\"cuda:0\" if torch.cuda.is_available() else \"cpu\")"
      ]
    },
    {
      "cell_type": "code",
      "execution_count": 2,
      "metadata": {
        "colab": {
          "base_uri": "https://localhost:8080/"
        },
        "id": "MQLLgkzrYviL",
        "outputId": "dfc05ea3-0413-42bf-f765-e12a672dfcc6"
      },
      "outputs": [
        {
          "output_type": "stream",
          "name": "stdout",
          "text": [
            "Mounted at /content/drive\n"
          ]
        }
      ],
      "source": [
        "# Import Drive for easier saving\n",
        "from google.colab import drive\n",
        "drive.mount('/content/drive')"
      ]
    },
    {
      "cell_type": "code",
      "execution_count": 3,
      "metadata": {
        "id": "rCbORzBiYy6f"
      },
      "outputs": [],
      "source": [
        "def download_data(filepath):\n",
        "    if not os.path.exists(os.path.join(filepath, 'mozart_sonatas.tar.gz')):\n",
        "        datasets.utils.download_url('https://github.com/Foundations-of-Applied-Mathematics/Data/raw/master/RNN/mozart_sonatas.tar.gz', filepath, 'mozart_sonatas.tar.gz', None)\n",
        "\n",
        "    print('Extracting {}'.format('mozart_sonatas.tar.gz'))\n",
        "    gzip_path = os.path.join(filepath, 'mozart_sonatas.tar.gz')\n",
        "    with open(gzip_path.replace('.gz', ''), 'wb') as out_f, gzip.GzipFile(gzip_path) as zip_f:\n",
        "        out_f.write(zip_f.read())\n",
        "\n",
        "    print('Untarring {}'.format('mozart_sonatas.tar'))\n",
        "    tar_path = os.path.join(filepath,'mozart_sonatas.tar')\n",
        "    z = tarfile.TarFile(tar_path)\n",
        "    z.extractall(tar_path.replace('.tar', ''))\n"
      ]
    },
    {
      "cell_type": "markdown",
      "metadata": {
        "id": "m7WTL6LYY0uP"
      },
      "source": [
        "# Problem 1 #\n",
        "\n",
        "Download the data.\n",
        "Write a function that accepts the path to the .mid files, parses the files, and returns a list of the 114208 Notes and Chords as strings. \n",
        "There are many element types in MIDI files, so be sure to only look for Notes and Chords.\n",
        "For the Chords, join the pitches of the Notes in the Chords with a . as in (D3.D2).\n",
        "\n",
        "Print the length of your list and the number of unique Notes and Chords.\n"
      ]
    },
    {
      "cell_type": "code",
      "source": [
        "def order_pitches(pitches):\n",
        "  \"\"\" pitches: element.pitches object where element is a chord.Chord\n",
        "      returns: sorted list of strings for each pitch in the chord\n",
        "  \"\"\"\n",
        "  return sorted(list(set([str(n) for n in pitches])))"
      ],
      "metadata": {
        "id": "Y2K30Yzyy3L_"
      },
      "execution_count": 4,
      "outputs": []
    },
    {
      "cell_type": "code",
      "source": [
        "# Download data\n",
        "download_data(\"drive/MyDrive/Colab\")"
      ],
      "metadata": {
        "colab": {
          "base_uri": "https://localhost:8080/"
        },
        "id": "D9ENFHZuzI-L",
        "outputId": "265efff6-b64b-41ae-d8ef-15b4a447981f"
      },
      "execution_count": 5,
      "outputs": [
        {
          "output_type": "stream",
          "name": "stdout",
          "text": [
            "Extracting mozart_sonatas.tar.gz\n",
            "Untarring mozart_sonatas.tar\n"
          ]
        }
      ]
    },
    {
      "cell_type": "code",
      "execution_count": 6,
      "metadata": {
        "id": "hEpK4GIyZCWg"
      },
      "outputs": [],
      "source": [
        "def get_note_chord_list(path):\n",
        "  big_list = []\n",
        "\n",
        "  for name in glob.glob(path + \"/mozart_sonatas/mozart_sonatas/*.mid\"):\n",
        "    midi = converter.parse(name)\n",
        "    notes_to_parse = instrument.partitionByInstrument(midi).parts.stream().recurse()\n",
        "\n",
        "    for element in notes_to_parse:\n",
        "      if isinstance(element, note.Note):\n",
        "        big_list.append(str(element.pitch))\n",
        "      elif isinstance(element, chord.Chord):\n",
        "        big_list.append(\".\".join(order_pitches(element.pitches)))\n",
        "  return big_list"
      ]
    },
    {
      "cell_type": "code",
      "source": [
        "big_list = get_note_chord_list(\"drive/MyDrive/Colab\")"
      ],
      "metadata": {
        "id": "4lkOqQZXzQuA"
      },
      "execution_count": 7,
      "outputs": []
    },
    {
      "cell_type": "code",
      "source": [
        "print(len(big_list))\n",
        "print(len(set(big_list)))"
      ],
      "metadata": {
        "colab": {
          "base_uri": "https://localhost:8080/"
        },
        "id": "-S6jOw0z0ZeC",
        "outputId": "78031ba7-b5c5-4dce-9b37-c2f9c8d12d98"
      },
      "execution_count": 8,
      "outputs": [
        {
          "output_type": "stream",
          "name": "stdout",
          "text": [
            "114208\n",
            "668\n"
          ]
        }
      ]
    },
    {
      "cell_type": "markdown",
      "metadata": {
        "id": "3votXpqiZCtY"
      },
      "source": [
        "# Problem 2 #\n",
        "\n",
        "Using the list returned in Problem 1, create the training and testing DataLoaders.\n",
        "Make sure to do all of the following steps:\n",
        "\n",
        "\n",
        "1) Convert the pitches to integers.\n",
        "\n",
        "2) Split the data into Long tensors of length 100.\n",
        "\n",
        "3) Create the labels.\n",
        "\n",
        "4) Randomly split the data into training, validation, and test sets using an 70/15/15 split.\n",
        "\n",
        "5) Create the DataLoaders for these sets of data, using batch_size=128 for the training data and batch_size=32 for the validation and test data; also, set shuffle=True for the training data and False for the validation and test data (this is common practice in Deep Learning).\n",
        " \n",
        "\n",
        "Print the length of each DataLoader (they should be 624, 535, and 535, respectively).\n"
      ]
    },
    {
      "cell_type": "code",
      "execution_count": 9,
      "metadata": {
        "id": "UghZuJfxZuzO"
      },
      "outputs": [],
      "source": [
        "# Convert pitches to integers\n",
        "ints = np.arange(len(set(big_list)))\n",
        "map = {pitch: num for pitch, num in zip(set(big_list), ints)}\n",
        "big_list_ints = [map[pitch] for pitch in big_list]\n",
        "\n",
        "# Split data in Long tensors of length 100\n",
        "sequences = np.array([big_list_ints[i:i+100] for i in range(len(big_list_ints) - 100)])\n",
        "\n",
        "# create labels\n",
        "labels = [big_list_ints[i+100] for i in range(len(big_list_ints) - 100)]\n",
        "\n",
        "# Randomly split data into 70-15-15 train, val, test sets\n",
        "data = [[torch.LongTensor(sequences[i]), labels[i]] for i in range(len(sequences))]\n",
        "train_data, other = train_test_split(data, test_size = 0.30)\n",
        "test_data, val_data = train_test_split(other, test_size = 0.5)\n",
        "\n",
        "# Create data loaders, 128 batch size for train, 32 for val and test\n",
        "train_loader = DataLoader(train_data, batch_size = 128, shuffle = True, drop_last = True)\n",
        "val_loader = DataLoader(val_data, batch_size = 32, shuffle = False)\n",
        "test_loader = DataLoader(test_data, batch_size = 32, shuffle = False)\n"
      ]
    },
    {
      "cell_type": "code",
      "source": [
        "print(len(train_loader))\n",
        "print(len(val_loader))\n",
        "print(len(test_loader))"
      ],
      "metadata": {
        "colab": {
          "base_uri": "https://localhost:8080/"
        },
        "id": "W3hk7ONv1Zbs",
        "outputId": "3895acbf-72d3-44a9-9ddc-abe7d87fe5a6"
      },
      "execution_count": 10,
      "outputs": [
        {
          "output_type": "stream",
          "name": "stdout",
          "text": [
            "624\n",
            "535\n",
            "535\n"
          ]
        }
      ]
    },
    {
      "cell_type": "markdown",
      "metadata": {
        "id": "mOtS86Rbi0P_"
      },
      "source": [
        "# Problem 3 #\n",
        "\n",
        "Create an LSTM network class.\n",
        "Have a hidden layer size of 256, and include at least $3$ LSTM layers.\n",
        "Also have at least $2$ Linear layers.\n",
        "The last LSTM layer and each of the Linear layers should be followed by a BatchNorm1d layer, for a total of at least $3$ total BatchNorm layers.\n",
        "The final layer should be a Softmax activation.\n",
        "\n",
        "Initialize the model.\n",
        "Define the loss as CrossEntropyLoss, and define the optimizer as RMSprop.\n",
        "\n",
        "Train the model for at least 30 epochs, saving the weights every epoch. \n",
        "\n",
        "After taking a backwards step during training, scale the gradients using \n",
        "nn.utils.clip_grad_norm_(model.parameters(), 5)\n",
        "This will ensure that the gradients are reasonably sized so that the model can learn.\n",
        "\n",
        "At the end of every epoch, calculate the validation accuracy and mean loss on the validation data.\n",
        "Remember to change the model to eval() mode when running the validation data and train() when running on the training data.\n",
        "You will also need to reinitialize the hidden states (h0, h1) since the batch sizes are different.\n",
        "\n",
        "After the validation accuracy is above 60\\%, plot the training and validation losses versus epochs on the same plot.\n",
        "Also, plot the validation accuracy versus epochs.\n",
        "Then, print the final test accuracy by running the finished model on the test data.\n"
      ]
    },
    {
      "cell_type": "code",
      "execution_count": 11,
      "metadata": {
        "id": "jMhH1W7ciwzB"
      },
      "outputs": [],
      "source": [
        "class RNN(nn.Module):\n",
        "    \"\"\" Recurrent Neural Network Class \"\"\"\n",
        "\n",
        "    def __init__(self, n_notes, embedding_dim):\n",
        "      super(RNN, self).__init__()\n",
        "\n",
        "      self.hidden_size = 256\n",
        "      self.num_layers = 3\n",
        "      self.n_notes = n_notes\n",
        "      self.embedding = nn.Embedding(n_notes, embedding_dim)\n",
        "\n",
        "      self.relu = nn.ReLU()\n",
        "\n",
        "      self.lstm = nn.LSTM(embedding_dim, self.hidden_size, self.num_layers, batch_first = True)\n",
        "    \n",
        "      self.batch1 = nn.BatchNorm1d(self.hidden_size)\n",
        "      self.batch2 = nn.BatchNorm1d(self.hidden_size)\n",
        "      self.batch3 = nn.BatchNorm1d(self.n_notes)\n",
        "\n",
        "      self.linear1 = nn.Linear(self.hidden_size, self.hidden_size)\n",
        "      self.linear2 = nn.Linear(self.hidden_size, self.n_notes)\n",
        "\n",
        "      self.softmax = nn.LogSoftmax(dim = 1)\n",
        "\n",
        "      \n",
        "    def forward(self, x, hidden):\n",
        "      embeds = self.embedding(x)\n",
        "      lstm, hidden = self.lstm(embeds, hidden)\n",
        "      out1 = self.batch1(lstm[:,-1])\n",
        "\n",
        "      out2 = self.relu(self.batch2(self.linear1(out1)))\n",
        "\n",
        "      out3 = self.batch3(self.linear2(out2))\n",
        "\n",
        "      return self.softmax(out3), hidden\n",
        "\n",
        "    def init_hidden(self,batch_size):\n",
        "      # initialize the hidden layers\n",
        "      weight = next(self.parameters()).data\n",
        "      h0 = weight.new(self.num_layers, batch_size, self.hidden_size).zero_().to(device)\n",
        "      h1 = weight.new(self.num_layers, batch_size, self.hidden_size).zero_().to(device)\n",
        "      return (h0, h1)"
      ]
    },
    {
      "cell_type": "code",
      "source": [
        "model = RNN(len(big_list_ints), 32)\n",
        "filepath = \"/content/drive/MyDrive/Colab\" # Saving parameters each epoch\n",
        "\n",
        "objective = nn.CrossEntropyLoss()\n",
        "optimizer = torch.optim.RMSprop(model.parameters(),lr=.001)\n",
        "\n",
        "num_epochs = 30\n",
        "model.to(device)\n",
        "\n",
        "val_acc = []\n",
        "mean_loss = []\n",
        "\n",
        "for epoch in range(num_epochs):\n",
        "  loop = tqdm(total = len(train_loader), position = 0)\n",
        "\n",
        "  model.train()\n",
        "  loss_list = []\n",
        "\n",
        "  (h0, h1) = model.init_hidden(128)\n",
        "\n",
        "  for batch, (x, y_truth) in enumerate(train_loader):\n",
        "    x, y_truth = x.to(device), y_truth.to(device)\n",
        "    \n",
        "    optimizer.zero_grad()\n",
        "    y_hat, (h0, h1) = model(x, (h0, h1))\n",
        "\n",
        "    h0 = h0.detach()\n",
        "    h1 = h1.detach()\n",
        "\n",
        "    loss = objective(y_hat, y_truth)\n",
        "    loss_list.append(loss.item())\n",
        "\n",
        "    loop.set_description('epoch: {}, loss: {:.4f}'.format(epoch,loss.item()))\n",
        "    loop.update()\n",
        "\n",
        "    loss.backward()\n",
        "    nn.utils.clip_grad_norm_(model.parameters(), 5)\n",
        "    optimizer.step()\n",
        "\n",
        "  model.eval()\n",
        "  validation_score = 0\n",
        "  for x, y_truth in val_loader:\n",
        "    x, y_truth = x.to(device), y_truth.to(device)\n",
        "    (h0, h1) = model.init_hidden(x.shape[0])\n",
        "    y_hat, _ = model(x, (h0, h1))\n",
        "    validation_score += sum(torch.eq(y_truth, y_hat.argmax(1))) / x.shape[0]\n",
        "    \n",
        "  validation_accuracy = validation_score.item() / len(val_loader)\n",
        "\n",
        "  val_acc.append(validation_accuracy)\n",
        "  mean_loss.append(np.mean(loss_list))\n",
        "\n",
        "  # torch.save({\"epoch\": epoch, \"model_state_dict\": model.state_dict(),\n",
        "  #             \"optimizer_state_dict\": optimizer.state_dict(), \"loss\": loss}, filepath)\n",
        "\n",
        "loop.close()\n",
        "\n",
        "# test_score = 0\n",
        "# for x, y_truth in test_loader:\n",
        "#   x, y_truth = x.to(device), y_truth.to(device)\n",
        "#   y_hat = model(x)\n",
        "#   if y_truth == y_hat.argmax(1): # compare with greatest probability\n",
        "#     test_score += 1\n",
        "# test_accuracy = test_score / len(test_loader)\n",
        "# print(f\"Final Test accuracy: {test_accuracy}\")\n",
        "\n",
        "\n",
        "\n"
      ],
      "metadata": {
        "id": "mDH3fwcs7Vk-",
        "colab": {
          "base_uri": "https://localhost:8080/"
        },
        "outputId": "1446bf3f-4d98-4bd6-abfb-35af15d3734c"
      },
      "execution_count": 12,
      "outputs": [
        {
          "output_type": "stream",
          "name": "stderr",
          "text": [
            "epoch: 0, loss: 8.6313: 100%|██████████| 624/624 [00:42<00:00, 14.69it/s]\n",
            "epoch: 1, loss: 6.5858: 100%|██████████| 624/624 [00:43<00:00, 14.33it/s]\n",
            "epoch: 2, loss: 4.6311: 100%|██████████| 624/624 [00:46<00:00, 13.56it/s]\n",
            "epoch: 3, loss: 3.4610: 100%|██████████| 624/624 [00:45<00:00, 13.86it/s]\n",
            "epoch: 4, loss: 3.0822: 100%|██████████| 624/624 [00:45<00:00, 13.79it/s]\n",
            "epoch: 5, loss: 2.4896: 100%|██████████| 624/624 [00:45<00:00, 13.75it/s]\n",
            "epoch: 6, loss: 2.2673: 100%|██████████| 624/624 [00:45<00:00, 13.77it/s]\n",
            "epoch: 7, loss: 1.8564: 100%|██████████| 624/624 [00:45<00:00, 13.75it/s]\n",
            "epoch: 8, loss: 1.6812: 100%|██████████| 624/624 [00:45<00:00, 13.73it/s]\n",
            "epoch: 9, loss: 1.4682: 100%|██████████| 624/624 [00:45<00:00, 13.72it/s]\n",
            "epoch: 10, loss: 1.0492: 100%|██████████| 624/624 [00:45<00:00, 13.72it/s]\n",
            "epoch: 11, loss: 1.0859: 100%|██████████| 624/624 [00:45<00:00, 13.73it/s]\n",
            "epoch: 12, loss: 0.8047: 100%|██████████| 624/624 [00:45<00:00, 13.75it/s]\n",
            "epoch: 13, loss: 1.0003: 100%|██████████| 624/624 [00:45<00:00, 13.70it/s]\n",
            "epoch: 14, loss: 0.4786: 100%|██████████| 624/624 [00:45<00:00, 13.76it/s]\n",
            "epoch: 15, loss: 0.6547: 100%|██████████| 624/624 [00:45<00:00, 13.74it/s]\n",
            "epoch: 16, loss: 0.4384: 100%|██████████| 624/624 [00:45<00:00, 13.74it/s]\n",
            "epoch: 17, loss: 0.5136: 100%|██████████| 624/624 [00:45<00:00, 13.75it/s]\n",
            "epoch: 18, loss: 0.4723: 100%|██████████| 624/624 [00:45<00:00, 13.77it/s]\n",
            "epoch: 19, loss: 0.3394: 100%|██████████| 624/624 [00:45<00:00, 13.75it/s]\n",
            "epoch: 20, loss: 0.3858: 100%|██████████| 624/624 [00:45<00:00, 13.71it/s]\n",
            "epoch: 21, loss: 0.2655: 100%|██████████| 624/624 [00:45<00:00, 13.72it/s]\n",
            "epoch: 22, loss: 0.1841: 100%|██████████| 624/624 [00:45<00:00, 13.73it/s]\n",
            "epoch: 23, loss: 0.2832: 100%|██████████| 624/624 [00:45<00:00, 13.78it/s]\n",
            "epoch: 24, loss: 0.3054: 100%|██████████| 624/624 [00:45<00:00, 13.77it/s]\n",
            "epoch: 25, loss: 0.2083: 100%|██████████| 624/624 [00:45<00:00, 13.74it/s]\n",
            "epoch: 26, loss: 0.2583: 100%|██████████| 624/624 [00:49<00:00, 12.53it/s]\n",
            "epoch: 27, loss: 0.2303: 100%|██████████| 624/624 [00:45<00:00, 13.64it/s]\n",
            "epoch: 28, loss: 0.1750: 100%|██████████| 624/624 [00:45<00:00, 13.75it/s]\n",
            "epoch: 29, loss: 0.1611: 100%|██████████| 624/624 [00:45<00:00, 13.60it/s]\n"
          ]
        }
      ]
    },
    {
      "cell_type": "code",
      "source": [
        "plt.figure(figsize = (15,3))\n",
        "plt.subplot(1,2,1)\n",
        "plt.plot(val_acc)\n",
        "plt.xlabel(\"Epoch\")\n",
        "plt.ylabel(\"Validation Accuracy\")\n",
        "\n",
        "plt.subplot(1,2,2)\n",
        "plt.xlabel(\"Epoch\")\n",
        "plt.ylabel(\"Mean training loss\")\n",
        "plt.plot(mean_loss)\n",
        "plt.show()"
      ],
      "metadata": {
        "colab": {
          "base_uri": "https://localhost:8080/",
          "height": 311
        },
        "id": "sc55HmVw4YLG",
        "outputId": "f50e1c29-391c-4a73-cec9-351c5eae94d6"
      },
      "execution_count": 15,
      "outputs": [
        {
          "output_type": "display_data",
          "data": {
            "text/plain": [
              "<Figure size 1500x300 with 2 Axes>"
            ],
            "image/png": "[encoded data removed]"
          },
          "metadata": {
            "image/png": {
              "width": 1244,
              "height": 294
            }
          }
        }
      ]
    },
    {
      "cell_type": "code",
      "source": [
        "model.eval()\n",
        "test_score = 0\n",
        "for x, y_truth in test_loader:\n",
        "  x, y_truth = x.to(device), y_truth.to(device)\n",
        "  (h0, h1) = model.init_hidden(x.shape[0])\n",
        "\n",
        "  y_hat, _ = model(x, (h0, h1))\n",
        "  test_score += sum(torch.eq(y_truth, y_hat.argmax(1))) / x.shape[0]\n",
        "  \n",
        "test_accuracy = test_score.item() / len(test_loader)\n",
        "print(f\"Test accuracy: {test_accuracy}\")"
      ],
      "metadata": {
        "colab": {
          "base_uri": "https://localhost:8080/"
        },
        "id": "7GS6mx1UI44Y",
        "outputId": "b70fe40a-7e77-4266-d5f5-eb02cb0a933e"
      },
      "execution_count": 56,
      "outputs": [
        {
          "output_type": "stream",
          "name": "stdout",
          "text": [
            "Test accuracy: 0.41098130841121494\n"
          ]
        }
      ]
    },
    {
      "cell_type": "markdown",
      "metadata": {
        "id": "sZilPcMCmOED"
      },
      "source": [
        "# Problem 4 #\n",
        "\n",
        "Write a function that randomly chooses a sequence in the test data (which has length 100) and predicts the next $n$ elements, defaulting to 500. \n",
        "Combine the initial sequence with the predicted elements, convert them to pitches, and return this list of 600 pitches."
      ]
    },
    {
      "cell_type": "code",
      "execution_count": null,
      "metadata": {
        "id": "3HciNV-gnLOA"
      },
      "outputs": [],
      "source": [
        "def load_model(filename):\n",
        "    \"\"\" Load a saved model to continue training or evaluate \"\"\"\n",
        "    device = torch.device(\"cuda:0\" if torch.cuda.is_available() else \"cpu\")\n",
        "\n",
        "    # n_notes is the number of unique pitches\n",
        "    model = RNN(n_notes,32)\n",
        "    model = model.to(device)\n",
        "    criterion = nn.CrossEntropyLoss()\n",
        "    optimizer = torch.optim.RMSprop(model.parameters(),lr=.001)\n",
        "\n",
        "    checkpoint = torch.load(filename,map_location=torch.device('cpu'))\n",
        "    model.load_state_dict(checkpoint['model_state_dict'])\n",
        "    optimizer.load_state_dict(checkpoint['optimizer_state_dict'])\n",
        "    last_epoch = checkpoint['epoch']\n",
        "    loss = checkpoint['loss']\n",
        "    model.eval() # Toggle evaluation mode\n",
        "\n",
        "    return model, criterion, optimizer"
      ]
    },
    {
      "cell_type": "code",
      "execution_count": 129,
      "metadata": {
        "id": "XiBsQmsKu0Xd"
      },
      "outputs": [],
      "source": [
        "inverse_map = {v:k for k, v in map.items()}\n",
        "\n",
        "def predict(n):\n",
        "  x = test_data[np.random.choice(len(test_data))][0].to(device).unsqueeze(dim = 0)\n",
        "\n",
        "  first_100 = [inverse_map[x[:,j].item()] for j in range(100)]\n",
        "\n",
        "  preds = []\n",
        "  for i in range(n):\n",
        "\n",
        "    (h0, h1) = model.init_hidden(1)\n",
        "\n",
        "    y_hat, _ = model(x[:,i:], (h0, h1))\n",
        "\n",
        "    preds.append(inverse_map[y_hat.argmax().item()])\n",
        "    x = torch.hstack((x, torch.tensor([[y_hat.argmax().item()]]).to(device)))\n",
        "    \n",
        "\n",
        "  return first_100 + preds\n"
      ]
    },
    {
      "cell_type": "code",
      "source": [
        "preds = predict(500)"
      ],
      "metadata": {
        "id": "ajlyfos_Jyra"
      },
      "execution_count": 127,
      "outputs": []
    },
    {
      "cell_type": "markdown",
      "metadata": {
        "id": "-syHIeZ4nLhh"
      },
      "source": [
        "# Problem 5 # \n",
        "\n",
        "Convert the predictions from Problem 4 into Music21 Note and Chord objects and save it as 'mozart.mid'."
      ]
    },
    {
      "cell_type": "code",
      "source": [
        "offsets = (0 + int(600*0/3673))*[0] + (1 + int(600*(2667+498)/3673))*[0.25] + int(600*507/3673)*[0.5]\n",
        "print(len(offsets))"
      ],
      "metadata": {
        "colab": {
          "base_uri": "https://localhost:8080/"
        },
        "id": "CZWAY3YwVNgf",
        "outputId": "079f585e-f90b-4bad-8217-34e940888270"
      },
      "execution_count": 173,
      "outputs": [
        {
          "output_type": "stream",
          "name": "stdout",
          "text": [
            "600\n"
          ]
        }
      ]
    },
    {
      "cell_type": "code",
      "execution_count": 174,
      "metadata": {
        "id": "XLnw5jAwu0Xd"
      },
      "outputs": [],
      "source": [
        "objs = []\n",
        "\n",
        "offset = 0\n",
        "for p in preds:\n",
        "  \n",
        "  if \".\" in p: # If it's a chord:\n",
        "    chord_pitches = p.split(\".\")\n",
        "    notes = []\n",
        "    for pitch in chord_pitches:\n",
        "      new_note = note.Note(pitch)\n",
        "      new_note.storedInstrument = instrument.Piano()\n",
        "      notes.append(new_note)\n",
        "    new_chord = chord.Chord(notes)\n",
        "    offset += np.random.choice(offsets)\n",
        "    new_chord.offset = offset\n",
        "\n",
        "    objs.append(new_chord)\n",
        "\n",
        "  else: # note a chord\n",
        "    new_note = note.Note(p)\n",
        "    offset += np.random.choice(offsets)\n",
        "    new_note.offset = offset\n",
        "\n",
        "    objs.append(new_note)"
      ]
    },
    {
      "cell_type": "code",
      "source": [
        "midi_stream = stream.Stream(objs)\n",
        "midi_stream.write('midi', fp = filepath + \"/test_mozart.mid\")"
      ],
      "metadata": {
        "colab": {
          "base_uri": "https://localhost:8080/",
          "height": 35
        },
        "id": "ntIeDbaJRF42",
        "outputId": "fa9b5a6a-1b58-45b4-b7b5-1f79067d65ce"
      },
      "execution_count": 175,
      "outputs": [
        {
          "output_type": "execute_result",
          "data": {
            "text/plain": [
              "'/content/drive/MyDrive/Colab/test_mozart.mid'"
            ],
            "application/vnd.google.colaboratory.intrinsic+json": {
              "type": "string"
            }
          },
          "metadata": {},
          "execution_count": 175
        }
      ]
    },
    {
      "cell_type": "code",
      "source": [],
      "metadata": {
        "id": "QASKC5pPTJHZ"
      },
      "execution_count": null,
      "outputs": []
    }
  ],
  "metadata": {
    "colab": {
      "provenance": []
    },
    "kernelspec": {
      "display_name": "Python 3 (ipykernel)",
      "language": "python",
      "name": "python3"
    },
    "language_info": {
      "codemirror_mode": {
        "name": "ipython",
        "version": 3
      },
      "file_extension": ".py",
      "mimetype": "text/x-python",
      "name": "python",
      "nbconvert_exporter": "python",
      "pygments_lexer": "ipython3",
      "version": "3.7.4"
    },
    "gpuClass": "standard",
    "accelerator": "GPU"
  },
  "nbformat": 4,
  "nbformat_minor": 0
}